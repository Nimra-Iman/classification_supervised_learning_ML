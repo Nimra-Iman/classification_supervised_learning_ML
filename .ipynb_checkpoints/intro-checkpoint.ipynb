{
 "cells": [
  {
   "cell_type": "code",
   "execution_count": null,
   "id": "d7fdc455-8daa-40c0-a7ef-f346d6708bc4",
   "metadata": {},
   "outputs": [],
   "source": [
    "when output is catagorical or discrete value then we will apply classification instead of \n",
    "regression for predictions in supervised learning.\n",
    "    Divided into 2 types:\n",
    "1- Binary classifier: if output has only 2 possible outcomes\n",
    "2- multiclass classifier: if output has more than 2 outcomes. "
   ]
  },
  {
   "cell_type": "code",
   "execution_count": null,
   "id": "2fb2e7e8-0f3c-4e06-8ed9-23070c923e2b",
   "metadata": {},
   "outputs": [],
   "source": [
    "there are also 2 types of algos here:\n",
    "        Linear models:\n",
    "                ---> Logistic regression\n",
    "                ---> SVM\n",
    "        Non-linear models:\n",
    "                    ---> KNN\n",
    "                --->    SVM\n",
    "                 --->   NAIVE BAISE\n",
    "                 --->   Decison tree classification\n",
    "                 --->   Random forest classification"
   ]
  },
  {
   "cell_type": "code",
   "execution_count": null,
   "id": "9b4f3196-16ad-465a-8ad5-c83c1a4eaa3d",
   "metadata": {},
   "outputs": [],
   "source": [
    "we will study each model both for binary clas and multi class classifier"
   ]
  },
  {
   "cell_type": "markdown",
   "id": "86a64564-9d6b-4c40-84ce-c364e46d9515",
   "metadata": {},
   "source": [
    "<h1> evaluating classification model </h1>"
   ]
  },
  {
   "cell_type": "code",
   "execution_count": null,
   "id": "7a872a48-bd1e-40ed-bcd5-e06f868cc1ef",
   "metadata": {},
   "outputs": [],
   "source": [
    "in regression we use different types of cost functions to check loss such as MSE, MAE etc, here:\n",
    "in classification we use:\n",
    "  --  log loss or cross entropy loss\n",
    "   -- confusion matrix (it is verryyyy important, sometyimes your model is rejected despite having high accuracy, and \n",
    "confusion matrix tells the reason of its rejection )\n",
    "   -- AUC-ROC curve (how well your model is working)"
   ]
  },
  {
   "cell_type": "code",
   "execution_count": null,
   "id": "de24b795-cefb-404d-b115-dfe47f9bf0b0",
   "metadata": {},
   "outputs": [],
   "source": [
    "REAL WORLD EXAMPLE OF CLASSIFICATION:\n",
    "        --> classifing emails to inbox and to spam\n",
    "        --> classifying documents to jpg, png, pdf etc"
   ]
  }
 ],
 "metadata": {
  "kernelspec": {
   "display_name": "Python 3 (ipykernel)",
   "language": "python",
   "name": "python3"
  },
  "language_info": {
   "codemirror_mode": {
    "name": "ipython",
    "version": 3
   },
   "file_extension": ".py",
   "mimetype": "text/x-python",
   "name": "python",
   "nbconvert_exporter": "python",
   "pygments_lexer": "ipython3",
   "version": "3.12.2"
  }
 },
 "nbformat": 4,
 "nbformat_minor": 5
}
