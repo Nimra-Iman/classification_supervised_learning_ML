{
 "cells": [
  {
   "cell_type": "markdown",
   "id": "9604cee2-200e-4aa8-b2e4-ac3f31c41021",
   "metadata": {},
   "source": [
    "<h1> accuracy  </h1>"
   ]
  },
  {
   "cell_type": "code",
   "execution_count": null,
   "id": "469ec8ce-1271-4fba-9d66-d2701ea8f93d",
   "metadata": {},
   "outputs": [],
   "source": [
    "accuarcy = (TP+TN)/(TP+TN+FP+FN)"
   ]
  },
  {
   "cell_type": "markdown",
   "id": "afc30e3d-d411-420b-bdf0-fc839be222c0",
   "metadata": {},
   "source": [
    "<h1> ERROR  </h1>"
   ]
  },
  {
   "cell_type": "code",
   "execution_count": null,
   "id": "e72ca46c-c2ea-4cd1-b1aa-c6b03756ecb5",
   "metadata": {},
   "outputs": [],
   "source": [
    "error = (FP+FN)/(TP+TN+FP+FN)  where (TP+TN+FP+FN) = n"
   ]
  },
  {
   "cell_type": "code",
   "execution_count": null,
   "id": "43664fef-28a5-4321-97f4-825f83dfdabf",
   "metadata": {},
   "outputs": [],
   "source": []
  }
 ],
 "metadata": {
  "kernelspec": {
   "display_name": "Python 3 (ipykernel)",
   "language": "python",
   "name": "python3"
  },
  "language_info": {
   "codemirror_mode": {
    "name": "ipython",
    "version": 3
   },
   "file_extension": ".py",
   "mimetype": "text/x-python",
   "name": "python",
   "nbconvert_exporter": "python",
   "pygments_lexer": "ipython3",
   "version": "3.12.2"
  }
 },
 "nbformat": 4,
 "nbformat_minor": 5
}
