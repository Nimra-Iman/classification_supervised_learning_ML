{
 "cells": [
  {
   "cell_type": "markdown",
   "id": "991dcca1-c3bd-4943-887a-4e1e402b92fd",
   "metadata": {},
   "source": [
    "#  MAX VOTING"
   ]
  },
  {
   "cell_type": "code",
   "execution_count": null,
   "id": "9ee003b6-6c73-4a66-a4b2-e59dabbe810a",
   "metadata": {},
   "outputs": [],
   "source": [
    "this is used in classification where different models train on a dataset, and the final prediction\n",
    "is actually the prediction on which majority of models agree\n",
    "\n",
    "---> e.g: output 0 and 1 thi and two models n bola k 0 ho gi and ek n bola k 1 ho gi to hm final output 0 consider\n",
    "kryn gy"
   ]
  },
  {
   "cell_type": "markdown",
   "id": "64af2478-50a8-44ad-83cf-5991610f255f",
   "metadata": {},
   "source": [
    "#  Weighted Average VOTING"
   ]
  },
  {
   "cell_type": "code",
   "execution_count": null,
   "id": "ba9a1bcb-f16b-4f8d-8550-e356464ae257",
   "metadata": {},
   "outputs": [],
   "source": [
    "it is used in both classification and regression, where hm models ko weightage dety hn, yani e.g: hm n \n",
    "SVM ko 4 dia and KNN ko 0.5 dia and DT to 2 dia, to is s vo jitna kaam kr rhy th hm n utny times unka kaam brha dya jitny\n",
    "times hm n unhy weight dia\n"
   ]
  },
  {
   "cell_type": "code",
   "execution_count": null,
   "id": "49f5dd9a-6706-4ea5-8240-be82c831c3ff",
   "metadata": {},
   "outputs": [],
   "source": []
  }
 ],
 "metadata": {
  "kernelspec": {
   "display_name": "Python 3 (ipykernel)",
   "language": "python",
   "name": "python3"
  },
  "language_info": {
   "codemirror_mode": {
    "name": "ipython",
    "version": 3
   },
   "file_extension": ".py",
   "mimetype": "text/x-python",
   "name": "python",
   "nbconvert_exporter": "python",
   "pygments_lexer": "ipython3",
   "version": "3.12.2"
  }
 },
 "nbformat": 4,
 "nbformat_minor": 5
}
